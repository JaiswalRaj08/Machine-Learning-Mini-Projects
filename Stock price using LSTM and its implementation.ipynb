{
 "cells": [
  {
   "cell_type": "markdown",
   "id": "7087350f",
   "metadata": {},
   "source": [
    "# 1. Introduction"
   ]
  },
  {
   "cell_type": "markdown",
   "id": "afdbc668",
   "metadata": {},
   "source": [
    "- Long short term memory (LSTM) is a model that increases the memory of recurrent neural networks. \n",
    "\n",
    "- Recurrent neural networks hold short term memory in that they allow earlier determining information to be employed in the current neural networks. \n",
    "\n",
    "- For immediate tasks, the earlier data is used. We may not possess a list of all of the earlier information for the neural node. \n",
    "\n",
    "- In RNNs, LSTMs are very widely used in Neural networks. Their effectiveness should be implemented to multiple sequence modelling problems in many application domains like video, NLP, geospatial, and time-series.\n",
    "\n",
    "- One of the main issues with RNN is the vanishing gradient problem, and it emerges due to the repeated use of the same parameters, in RNN blocks, at each step. \n",
    "\n",
    "- We must try to use different parameters to overcome this problem at each time step.We try to find a balance in such a situation. We bring novel parameters at each step while generalizing variable-length sequences and keeping the overall amount of learnable parameters constant. We introduce gated RNN cells like LSTM and GRU.\n",
    "\n",
    "- Gated cells hold internal variables, which are Gates. This value of each gate at each time step depends on the information at that time step, including early states. \n",
    "\n",
    "- The value of the gate then becomes multiplied by the different variables of interest to influence them. Time-series data is a series of data values gathered over time interims, allowing us to trace differences over time. Time-series data can trace progress over milliseconds, days, and years.\n",
    "\n",
    "- Early, our perspective of time-series data meant more static; the everyday highs and lows under temperature, the opening and closing amount of the stock market. Now we will go to the coding part. We will implement LSTM on the stocks dataset."
   ]
  },
  {
   "cell_type": "code",
   "execution_count": 1,
   "id": "1524d277",
   "metadata": {
    "_kg_hide-input": true,
    "execution": {
     "iopub.execute_input": "2021-11-29T13:50:24.240758Z",
     "iopub.status.busy": "2021-11-29T13:50:24.239966Z",
     "iopub.status.idle": "2021-11-29T13:50:24.243586Z",
     "shell.execute_reply": "2021-11-29T13:50:24.243082Z",
     "shell.execute_reply.started": "2021-11-29T13:48:54.348106Z"
    },
    "id": "rG29jnHE2JsP",
    "papermill": {
     "duration": 0.036026,
     "end_time": "2021-11-29T13:50:24.243716",
     "exception": false,
     "start_time": "2021-11-29T13:50:24.207690",
     "status": "completed"
    },
    "tags": []
   },
   "outputs": [],
   "source": [
    "import warnings\n",
    "warnings.filterwarnings('ignore')"
   ]
  },
  {
   "cell_type": "code",
   "execution_count": 2,
   "id": "d23f81d1",
   "metadata": {
    "execution": {
     "iopub.execute_input": "2021-11-29T13:50:24.293474Z",
     "iopub.status.busy": "2021-11-29T13:50:24.292628Z",
     "iopub.status.idle": "2021-11-29T13:50:24.294413Z",
     "shell.execute_reply": "2021-11-29T13:50:24.294872Z",
     "shell.execute_reply.started": "2021-11-29T13:48:54.354754Z"
    },
    "id": "DXL9UGER2bMy",
    "papermill": {
     "duration": 0.028698,
     "end_time": "2021-11-29T13:50:24.294994",
     "exception": false,
     "start_time": "2021-11-29T13:50:24.266296",
     "status": "completed"
    },
    "tags": []
   },
   "outputs": [],
   "source": [
    "# Importing required libraries\n",
    "import pandas as pd\n",
    "import numpy as np\n",
    "import matplotlib.pyplot as plt"
   ]
  },
  {
   "cell_type": "markdown",
   "id": "2f953fd5",
   "metadata": {},
   "source": [
    "# 2. Dataset\n",
    "\n",
    "https://github.com/PacktPublishing/Learning-Pandas-Second-Edition/blob/master/data/goog.csv"
   ]
  },
  {
   "cell_type": "markdown",
   "id": "7e82c5f7",
   "metadata": {},
   "source": [
    "# 3. Implementation of LSTM on stocks data"
   ]
  },
  {
   "cell_type": "markdown",
   "id": "55e5b6a1",
   "metadata": {},
   "source": [
    "## 3.1 Reading Data"
   ]
  },
  {
   "cell_type": "code",
   "execution_count": 3,
   "id": "c453fc1b",
   "metadata": {
    "execution": {
     "iopub.execute_input": "2021-11-29T13:50:24.344143Z",
     "iopub.status.busy": "2021-11-29T13:50:24.343467Z",
     "iopub.status.idle": "2021-11-29T13:50:24.391560Z",
     "shell.execute_reply": "2021-11-29T13:50:24.392000Z",
     "shell.execute_reply.started": "2021-11-29T13:48:54.366469Z"
    },
    "id": "KFlX32E32b-h",
    "outputId": "5bba8fed-4c90-42e1-8119-e998b57ee8f7",
    "papermill": {
     "duration": 0.074661,
     "end_time": "2021-11-29T13:50:24.392144",
     "exception": false,
     "start_time": "2021-11-29T13:50:24.317483",
     "status": "completed"
    },
    "tags": []
   },
   "outputs": [
    {
     "data": {
      "text/html": [
       "<div>\n",
       "<style scoped>\n",
       "    .dataframe tbody tr th:only-of-type {\n",
       "        vertical-align: middle;\n",
       "    }\n",
       "\n",
       "    .dataframe tbody tr th {\n",
       "        vertical-align: top;\n",
       "    }\n",
       "\n",
       "    .dataframe thead th {\n",
       "        text-align: right;\n",
       "    }\n",
       "</style>\n",
       "<table border=\"1\" class=\"dataframe\">\n",
       "  <thead>\n",
       "    <tr style=\"text-align: right;\">\n",
       "      <th></th>\n",
       "      <th>symbol</th>\n",
       "      <th>date</th>\n",
       "      <th>close</th>\n",
       "      <th>high</th>\n",
       "      <th>low</th>\n",
       "      <th>open</th>\n",
       "      <th>volume</th>\n",
       "      <th>adjClose</th>\n",
       "      <th>adjHigh</th>\n",
       "      <th>adjLow</th>\n",
       "      <th>adjOpen</th>\n",
       "      <th>adjVolume</th>\n",
       "      <th>divCash</th>\n",
       "      <th>splitFactor</th>\n",
       "    </tr>\n",
       "  </thead>\n",
       "  <tbody>\n",
       "    <tr>\n",
       "      <th>0</th>\n",
       "      <td>GOOG</td>\n",
       "      <td>2016-06-14 00:00:00+00:00</td>\n",
       "      <td>718.27</td>\n",
       "      <td>722.47</td>\n",
       "      <td>713.1200</td>\n",
       "      <td>716.48</td>\n",
       "      <td>1306065</td>\n",
       "      <td>718.27</td>\n",
       "      <td>722.47</td>\n",
       "      <td>713.1200</td>\n",
       "      <td>716.48</td>\n",
       "      <td>1306065</td>\n",
       "      <td>0.0</td>\n",
       "      <td>1.0</td>\n",
       "    </tr>\n",
       "    <tr>\n",
       "      <th>1</th>\n",
       "      <td>GOOG</td>\n",
       "      <td>2016-06-15 00:00:00+00:00</td>\n",
       "      <td>718.92</td>\n",
       "      <td>722.98</td>\n",
       "      <td>717.3100</td>\n",
       "      <td>719.00</td>\n",
       "      <td>1214517</td>\n",
       "      <td>718.92</td>\n",
       "      <td>722.98</td>\n",
       "      <td>717.3100</td>\n",
       "      <td>719.00</td>\n",
       "      <td>1214517</td>\n",
       "      <td>0.0</td>\n",
       "      <td>1.0</td>\n",
       "    </tr>\n",
       "    <tr>\n",
       "      <th>2</th>\n",
       "      <td>GOOG</td>\n",
       "      <td>2016-06-16 00:00:00+00:00</td>\n",
       "      <td>710.36</td>\n",
       "      <td>716.65</td>\n",
       "      <td>703.2600</td>\n",
       "      <td>714.91</td>\n",
       "      <td>1982471</td>\n",
       "      <td>710.36</td>\n",
       "      <td>716.65</td>\n",
       "      <td>703.2600</td>\n",
       "      <td>714.91</td>\n",
       "      <td>1982471</td>\n",
       "      <td>0.0</td>\n",
       "      <td>1.0</td>\n",
       "    </tr>\n",
       "    <tr>\n",
       "      <th>3</th>\n",
       "      <td>GOOG</td>\n",
       "      <td>2016-06-17 00:00:00+00:00</td>\n",
       "      <td>691.72</td>\n",
       "      <td>708.82</td>\n",
       "      <td>688.4515</td>\n",
       "      <td>708.65</td>\n",
       "      <td>3402357</td>\n",
       "      <td>691.72</td>\n",
       "      <td>708.82</td>\n",
       "      <td>688.4515</td>\n",
       "      <td>708.65</td>\n",
       "      <td>3402357</td>\n",
       "      <td>0.0</td>\n",
       "      <td>1.0</td>\n",
       "    </tr>\n",
       "    <tr>\n",
       "      <th>4</th>\n",
       "      <td>GOOG</td>\n",
       "      <td>2016-06-20 00:00:00+00:00</td>\n",
       "      <td>693.71</td>\n",
       "      <td>702.48</td>\n",
       "      <td>693.4100</td>\n",
       "      <td>698.77</td>\n",
       "      <td>2082538</td>\n",
       "      <td>693.71</td>\n",
       "      <td>702.48</td>\n",
       "      <td>693.4100</td>\n",
       "      <td>698.77</td>\n",
       "      <td>2082538</td>\n",
       "      <td>0.0</td>\n",
       "      <td>1.0</td>\n",
       "    </tr>\n",
       "  </tbody>\n",
       "</table>\n",
       "</div>"
      ],
      "text/plain": [
       "  symbol                       date   close    high       low    open  \\\n",
       "0   GOOG  2016-06-14 00:00:00+00:00  718.27  722.47  713.1200  716.48   \n",
       "1   GOOG  2016-06-15 00:00:00+00:00  718.92  722.98  717.3100  719.00   \n",
       "2   GOOG  2016-06-16 00:00:00+00:00  710.36  716.65  703.2600  714.91   \n",
       "3   GOOG  2016-06-17 00:00:00+00:00  691.72  708.82  688.4515  708.65   \n",
       "4   GOOG  2016-06-20 00:00:00+00:00  693.71  702.48  693.4100  698.77   \n",
       "\n",
       "    volume  adjClose  adjHigh    adjLow  adjOpen  adjVolume  divCash  \\\n",
       "0  1306065    718.27   722.47  713.1200   716.48    1306065      0.0   \n",
       "1  1214517    718.92   722.98  717.3100   719.00    1214517      0.0   \n",
       "2  1982471    710.36   716.65  703.2600   714.91    1982471      0.0   \n",
       "3  3402357    691.72   708.82  688.4515   708.65    3402357      0.0   \n",
       "4  2082538    693.71   702.48  693.4100   698.77    2082538      0.0   \n",
       "\n",
       "   splitFactor  \n",
       "0          1.0  \n",
       "1          1.0  \n",
       "2          1.0  \n",
       "3          1.0  \n",
       "4          1.0  "
      ]
     },
     "execution_count": 3,
     "metadata": {},
     "output_type": "execute_result"
    }
   ],
   "source": [
    "google_stock_data = pd.read_csv(r'C:\\Users\\HOME\\Desktop\\GOOG.csv')\n",
    "google_stock_data.head()"
   ]
  },
  {
   "cell_type": "markdown",
   "id": "8f6bb3c1",
   "metadata": {},
   "source": [
    "## 3.2 Data Viz\n",
    "\n",
    "We have performed a few feature extraction here. We take the dates alone from the overall date variable. Now we can be using matplotlib to visualize the available data and see how our price values in data are being displayed. The green colour was used to visualize the open variable for the price-date graph, and for the closing variable, we used red colour."
   ]
  },
  {
   "cell_type": "code",
   "execution_count": 4,
   "id": "ed6be72d",
   "metadata": {
    "_kg_hide-input": true,
    "execution": {
     "iopub.execute_input": "2021-11-29T13:50:24.595227Z",
     "iopub.status.busy": "2021-11-29T13:50:24.594412Z",
     "iopub.status.idle": "2021-11-29T13:50:25.002816Z",
     "shell.execute_reply": "2021-11-29T13:50:25.003266Z",
     "shell.execute_reply.started": "2021-11-29T13:48:54.433116Z"
    },
    "id": "17mfyZrq2cE9",
    "outputId": "3967e04c-6b57-41fc-84dd-35eecfb15269",
    "papermill": {
     "duration": 0.45005,
     "end_time": "2021-11-29T13:50:25.003414",
     "exception": false,
     "start_time": "2021-11-29T13:50:24.553364",
     "status": "completed"
    },
    "tags": []
   },
   "outputs": [
    {
     "data": {
      "image/png": "[encoded data removed]",
      "text/plain": [
       "<Figure size 1440x504 with 2 Axes>"
      ]
     },
     "metadata": {
      "needs_background": "light"
     },
     "output_type": "display_data"
    }
   ],
   "source": [
    "fg, ax =plt.subplots(1,2,figsize=(20,7))\n",
    "ax[0].plot(google_stock_data['open'],label='Open',color='green')\n",
    "ax[0].set_xlabel('Date',size=15)\n",
    "ax[0].set_ylabel('Price',size=15)\n",
    "ax[0].legend()\n",
    "\n",
    "ax[1].plot(google_stock_data['close'],label='Close',color='red')\n",
    "ax[1].set_xlabel('Date',size=15)\n",
    "ax[1].set_ylabel('Price',size=15)\n",
    "ax[1].legend()\n",
    "\n",
    "fg.show()"
   ]
  },
  {
   "cell_type": "code",
   "execution_count": 5,
   "id": "129806d1",
   "metadata": {},
   "outputs": [
    {
     "data": {
      "text/plain": [
       "Text(0.5, 1.0, 'High and Low Stock Prices, Google')"
      ]
     },
     "execution_count": 5,
     "metadata": {},
     "output_type": "execute_result"
    },
    {
     "data": {
      "image/png": "[encoded data removed]",
      "text/plain": [
       "<Figure size 1080x576 with 1 Axes>"
      ]
     },
     "metadata": {
      "needs_background": "light"
     },
     "output_type": "display_data"
    }
   ],
   "source": [
    "plt.figure(figsize = (15,8))\n",
    "plt.plot(google_stock_data['high'])\n",
    "plt.plot(google_stock_data['low'])\n",
    "plt.legend(['High','Low'])\n",
    "plt.title('High and Low Stock Prices, Google', fontsize = 30)"
   ]
  },
  {
   "cell_type": "code",
   "execution_count": 6,
   "id": "0acc9ebd",
   "metadata": {},
   "outputs": [
    {
     "data": {
      "text/plain": [
       "Text(0, 0.5, 'High price')"
      ]
     },
     "execution_count": 6,
     "metadata": {},
     "output_type": "execute_result"
    },
    {
     "data": {
      "image/png": "[encoded data removed]",
      "text/plain": [
       "<Figure size 864x576 with 1 Axes>"
      ]
     },
     "metadata": {
      "needs_background": "light"
     },
     "output_type": "display_data"
    }
   ],
   "source": [
    "google_stock_data['high'].plot(figsize=(12,8))\n",
    "plt.ylabel(\"High price\")"
   ]
  },
  {
   "cell_type": "code",
   "execution_count": 7,
   "id": "6e7e6a82",
   "metadata": {},
   "outputs": [
    {
     "data": {
      "text/plain": [
       "Text(0, 0.5, 'Volume price')"
      ]
     },
     "execution_count": 7,
     "metadata": {},
     "output_type": "execute_result"
    },
    {
     "data": {
      "image/png": "[encoded data removed]",
      "text/plain": [
       "<Figure size 864x576 with 1 Axes>"
      ]
     },
     "metadata": {
      "needs_background": "light"
     },
     "output_type": "display_data"
    }
   ],
   "source": [
    "google_stock_data['volume'].plot(figsize=(12,8))\n",
    "plt.ylabel(\"Volume price\")"
   ]
  },
  {
   "cell_type": "markdown",
   "id": "38468acf",
   "metadata": {},
   "source": [
    "## 3.3 Exploring Dataset:\n",
    "\n",
    "The dataset contains 14 columns associated with time series like the date and the different variables like close, high, low and volume. We will use opening and closing values for our experimentation of time series with LSTM."
   ]
  },
  {
   "cell_type": "code",
   "execution_count": 8,
   "id": "e9895bbf",
   "metadata": {
    "execution": {
     "iopub.execute_input": "2021-11-29T13:50:24.446054Z",
     "iopub.status.busy": "2021-11-29T13:50:24.445242Z",
     "iopub.status.idle": "2021-11-29T13:50:24.462449Z",
     "shell.execute_reply": "2021-11-29T13:50:24.463027Z",
     "shell.execute_reply.started": "2021-11-29T13:48:54.399710Z"
    },
    "id": "rD5muzWA2cBd",
    "outputId": "8a62ca3b-b1c7-4b31-d097-f2f6184e438f",
    "papermill": {
     "duration": 0.047642,
     "end_time": "2021-11-29T13:50:24.463201",
     "exception": false,
     "start_time": "2021-11-29T13:50:24.415559",
     "status": "completed"
    },
    "tags": []
   },
   "outputs": [
    {
     "name": "stdout",
     "output_type": "stream",
     "text": [
      "<class 'pandas.core.frame.DataFrame'>\n",
      "RangeIndex: 1258 entries, 0 to 1257\n",
      "Data columns (total 14 columns):\n",
      " #   Column       Non-Null Count  Dtype  \n",
      "---  ------       --------------  -----  \n",
      " 0   symbol       1258 non-null   object \n",
      " 1   date         1258 non-null   object \n",
      " 2   close        1258 non-null   float64\n",
      " 3   high         1258 non-null   float64\n",
      " 4   low          1258 non-null   float64\n",
      " 5   open         1258 non-null   float64\n",
      " 6   volume       1258 non-null   int64  \n",
      " 7   adjClose     1258 non-null   float64\n",
      " 8   adjHigh      1258 non-null   float64\n",
      " 9   adjLow       1258 non-null   float64\n",
      " 10  adjOpen      1258 non-null   float64\n",
      " 11  adjVolume    1258 non-null   int64  \n",
      " 12  divCash      1258 non-null   float64\n",
      " 13  splitFactor  1258 non-null   float64\n",
      "dtypes: float64(10), int64(2), object(2)\n",
      "memory usage: 137.7+ KB\n"
     ]
    }
   ],
   "source": [
    "google_stock_data.info()"
   ]
  },
  {
   "cell_type": "code",
   "execution_count": 9,
   "id": "90224656",
   "metadata": {},
   "outputs": [
    {
     "data": {
      "text/plain": [
       "symbol         0\n",
       "date           0\n",
       "close          0\n",
       "high           0\n",
       "low            0\n",
       "open           0\n",
       "volume         0\n",
       "adjClose       0\n",
       "adjHigh        0\n",
       "adjLow         0\n",
       "adjOpen        0\n",
       "adjVolume      0\n",
       "divCash        0\n",
       "splitFactor    0\n",
       "dtype: int64"
      ]
     },
     "execution_count": 9,
     "metadata": {},
     "output_type": "execute_result"
    }
   ],
   "source": [
    "google_stock_data.isnull().sum()"
   ]
  },
  {
   "cell_type": "code",
   "execution_count": 10,
   "id": "cdb631d5",
   "metadata": {},
   "outputs": [
    {
     "data": {
      "text/html": [
       "<style type=\"text/css\">\n",
       "#T_7bc01_row0_col0, #T_7bc01_row0_col1, #T_7bc01_row0_col2, #T_7bc01_row0_col3, #T_7bc01_row0_col5, #T_7bc01_row0_col6, #T_7bc01_row0_col7, #T_7bc01_row0_col8, #T_7bc01_row1_col0, #T_7bc01_row1_col1, #T_7bc01_row1_col2, #T_7bc01_row1_col3, #T_7bc01_row1_col5, #T_7bc01_row1_col6, #T_7bc01_row1_col7, #T_7bc01_row1_col8, #T_7bc01_row2_col0, #T_7bc01_row2_col1, #T_7bc01_row2_col2, #T_7bc01_row2_col3, #T_7bc01_row2_col5, #T_7bc01_row2_col6, #T_7bc01_row2_col7, #T_7bc01_row2_col8, #T_7bc01_row3_col0, #T_7bc01_row3_col1, #T_7bc01_row3_col2, #T_7bc01_row3_col3, #T_7bc01_row3_col5, #T_7bc01_row3_col6, #T_7bc01_row3_col7, #T_7bc01_row3_col8, #T_7bc01_row4_col4, #T_7bc01_row4_col9, #T_7bc01_row5_col0, #T_7bc01_row5_col1, #T_7bc01_row5_col2, #T_7bc01_row5_col3, #T_7bc01_row5_col5, #T_7bc01_row5_col6, #T_7bc01_row5_col7, #T_7bc01_row5_col8, #T_7bc01_row6_col0, #T_7bc01_row6_col1, #T_7bc01_row6_col2, #T_7bc01_row6_col3, #T_7bc01_row6_col5, #T_7bc01_row6_col6, #T_7bc01_row6_col7, #T_7bc01_row6_col8, #T_7bc01_row7_col0, #T_7bc01_row7_col1, #T_7bc01_row7_col2, #T_7bc01_row7_col3, #T_7bc01_row7_col5, #T_7bc01_row7_col6, #T_7bc01_row7_col7, #T_7bc01_row7_col8, #T_7bc01_row8_col0, #T_7bc01_row8_col1, #T_7bc01_row8_col2, #T_7bc01_row8_col3, #T_7bc01_row8_col5, #T_7bc01_row8_col6, #T_7bc01_row8_col7, #T_7bc01_row8_col8, #T_7bc01_row9_col4, #T_7bc01_row9_col9 {\n",
       "  background-color: #b40426;\n",
       "  color: #f1f1f1;\n",
       "}\n",
       "#T_7bc01_row0_col4, #T_7bc01_row0_col9, #T_7bc01_row5_col4, #T_7bc01_row5_col9 {\n",
       "  background-color: #3d50c3;\n",
       "  color: #f1f1f1;\n",
       "}\n",
       "#T_7bc01_row0_col10, #T_7bc01_row0_col11, #T_7bc01_row1_col10, #T_7bc01_row1_col11, #T_7bc01_row2_col10, #T_7bc01_row2_col11, #T_7bc01_row3_col10, #T_7bc01_row3_col11, #T_7bc01_row4_col10, #T_7bc01_row4_col11, #T_7bc01_row5_col10, #T_7bc01_row5_col11, #T_7bc01_row6_col10, #T_7bc01_row6_col11, #T_7bc01_row7_col10, #T_7bc01_row7_col11, #T_7bc01_row8_col10, #T_7bc01_row8_col11, #T_7bc01_row9_col10, #T_7bc01_row9_col11, #T_7bc01_row10_col0, #T_7bc01_row10_col1, #T_7bc01_row10_col2, #T_7bc01_row10_col3, #T_7bc01_row10_col4, #T_7bc01_row10_col5, #T_7bc01_row10_col6, #T_7bc01_row10_col7, #T_7bc01_row10_col8, #T_7bc01_row10_col9, #T_7bc01_row10_col10, #T_7bc01_row10_col11, #T_7bc01_row11_col0, #T_7bc01_row11_col1, #T_7bc01_row11_col2, #T_7bc01_row11_col3, #T_7bc01_row11_col4, #T_7bc01_row11_col5, #T_7bc01_row11_col6, #T_7bc01_row11_col7, #T_7bc01_row11_col8, #T_7bc01_row11_col9, #T_7bc01_row11_col10, #T_7bc01_row11_col11 {\n",
       "  background-color: #000000;\n",
       "  color: #f1f1f1;\n",
       "}\n",
       "#T_7bc01_row1_col4, #T_7bc01_row1_col9, #T_7bc01_row6_col4, #T_7bc01_row6_col9 {\n",
       "  background-color: #4055c8;\n",
       "  color: #f1f1f1;\n",
       "}\n",
       "#T_7bc01_row2_col4, #T_7bc01_row2_col9, #T_7bc01_row4_col0, #T_7bc01_row4_col1, #T_7bc01_row4_col2, #T_7bc01_row4_col3, #T_7bc01_row4_col5, #T_7bc01_row4_col6, #T_7bc01_row4_col7, #T_7bc01_row4_col8, #T_7bc01_row7_col4, #T_7bc01_row7_col9, #T_7bc01_row9_col0, #T_7bc01_row9_col1, #T_7bc01_row9_col2, #T_7bc01_row9_col3, #T_7bc01_row9_col5, #T_7bc01_row9_col6, #T_7bc01_row9_col7, #T_7bc01_row9_col8 {\n",
       "  background-color: #3b4cc0;\n",
       "  color: #f1f1f1;\n",
       "}\n",
       "#T_7bc01_row3_col4, #T_7bc01_row3_col9, #T_7bc01_row8_col4, #T_7bc01_row8_col9 {\n",
       "  background-color: #3e51c5;\n",
       "  color: #f1f1f1;\n",
       "}\n",
       "</style>\n",
       "<table id=\"T_7bc01\">\n",
       "  <thead>\n",
       "    <tr>\n",
       "      <th class=\"blank level0\" >&nbsp;</th>\n",
       "      <th id=\"T_7bc01_level0_col0\" class=\"col_heading level0 col0\" >close</th>\n",
       "      <th id=\"T_7bc01_level0_col1\" class=\"col_heading level0 col1\" >high</th>\n",
       "      <th id=\"T_7bc01_level0_col2\" class=\"col_heading level0 col2\" >low</th>\n",
       "      <th id=\"T_7bc01_level0_col3\" class=\"col_heading level0 col3\" >open</th>\n",
       "      <th id=\"T_7bc01_level0_col4\" class=\"col_heading level0 col4\" >volume</th>\n",
       "      <th id=\"T_7bc01_level0_col5\" class=\"col_heading level0 col5\" >adjClose</th>\n",
       "      <th id=\"T_7bc01_level0_col6\" class=\"col_heading level0 col6\" >adjHigh</th>\n",
       "      <th id=\"T_7bc01_level0_col7\" class=\"col_heading level0 col7\" >adjLow</th>\n",
       "      <th id=\"T_7bc01_level0_col8\" class=\"col_heading level0 col8\" >adjOpen</th>\n",
       "      <th id=\"T_7bc01_level0_col9\" class=\"col_heading level0 col9\" >adjVolume</th>\n",
       "      <th id=\"T_7bc01_level0_col10\" class=\"col_heading level0 col10\" >divCash</th>\n",
       "      <th id=\"T_7bc01_level0_col11\" class=\"col_heading level0 col11\" >splitFactor</th>\n",
       "    </tr>\n",
       "  </thead>\n",
       "  <tbody>\n",
       "    <tr>\n",
       "      <th id=\"T_7bc01_level0_row0\" class=\"row_heading level0 row0\" >close</th>\n",
       "      <td id=\"T_7bc01_row0_col0\" class=\"data row0 col0\" >1.000000</td>\n",
       "      <td id=\"T_7bc01_row0_col1\" class=\"data row0 col1\" >0.999528</td>\n",
       "      <td id=\"T_7bc01_row0_col2\" class=\"data row0 col2\" >0.999586</td>\n",
       "      <td id=\"T_7bc01_row0_col3\" class=\"data row0 col3\" >0.999083</td>\n",
       "      <td id=\"T_7bc01_row0_col4\" class=\"data row0 col4\" >-0.025574</td>\n",
       "      <td id=\"T_7bc01_row0_col5\" class=\"data row0 col5\" >1.000000</td>\n",
       "      <td id=\"T_7bc01_row0_col6\" class=\"data row0 col6\" >0.999528</td>\n",
       "      <td id=\"T_7bc01_row0_col7\" class=\"data row0 col7\" >0.999586</td>\n",
       "      <td id=\"T_7bc01_row0_col8\" class=\"data row0 col8\" >0.999083</td>\n",
       "      <td id=\"T_7bc01_row0_col9\" class=\"data row0 col9\" >-0.025574</td>\n",
       "      <td id=\"T_7bc01_row0_col10\" class=\"data row0 col10\" >nan</td>\n",
       "      <td id=\"T_7bc01_row0_col11\" class=\"data row0 col11\" >nan</td>\n",
       "    </tr>\n",
       "    <tr>\n",
       "      <th id=\"T_7bc01_level0_row1\" class=\"row_heading level0 row1\" >high</th>\n",
       "      <td id=\"T_7bc01_row1_col0\" class=\"data row1 col0\" >0.999528</td>\n",
       "      <td id=\"T_7bc01_row1_col1\" class=\"data row1 col1\" >1.000000</td>\n",
       "      <td id=\"T_7bc01_row1_col2\" class=\"data row1 col2\" >0.999354</td>\n",
       "      <td id=\"T_7bc01_row1_col3\" class=\"data row1 col3\" >0.999575</td>\n",
       "      <td id=\"T_7bc01_row1_col4\" class=\"data row1 col4\" >-0.012470</td>\n",
       "      <td id=\"T_7bc01_row1_col5\" class=\"data row1 col5\" >0.999528</td>\n",
       "      <td id=\"T_7bc01_row1_col6\" class=\"data row1 col6\" >1.000000</td>\n",
       "      <td id=\"T_7bc01_row1_col7\" class=\"data row1 col7\" >0.999354</td>\n",
       "      <td id=\"T_7bc01_row1_col8\" class=\"data row1 col8\" >0.999575</td>\n",
       "      <td id=\"T_7bc01_row1_col9\" class=\"data row1 col9\" >-0.012470</td>\n",
       "      <td id=\"T_7bc01_row1_col10\" class=\"data row1 col10\" >nan</td>\n",
       "      <td id=\"T_7bc01_row1_col11\" class=\"data row1 col11\" >nan</td>\n",
       "    </tr>\n",
       "    <tr>\n",
       "      <th id=\"T_7bc01_level0_row2\" class=\"row_heading level0 row2\" >low</th>\n",
       "      <td id=\"T_7bc01_row2_col0\" class=\"data row2 col0\" >0.999586</td>\n",
       "      <td id=\"T_7bc01_row2_col1\" class=\"data row2 col1\" >0.999354</td>\n",
       "      <td id=\"T_7bc01_row2_col2\" class=\"data row2 col2\" >1.000000</td>\n",
       "      <td id=\"T_7bc01_row2_col3\" class=\"data row2 col3\" >0.999499</td>\n",
       "      <td id=\"T_7bc01_row2_col4\" class=\"data row2 col4\" >-0.035184</td>\n",
       "      <td id=\"T_7bc01_row2_col5\" class=\"data row2 col5\" >0.999586</td>\n",
       "      <td id=\"T_7bc01_row2_col6\" class=\"data row2 col6\" >0.999354</td>\n",
       "      <td id=\"T_7bc01_row2_col7\" class=\"data row2 col7\" >1.000000</td>\n",
       "      <td id=\"T_7bc01_row2_col8\" class=\"data row2 col8\" >0.999499</td>\n",
       "      <td id=\"T_7bc01_row2_col9\" class=\"data row2 col9\" >-0.035184</td>\n",
       "      <td id=\"T_7bc01_row2_col10\" class=\"data row2 col10\" >nan</td>\n",
       "      <td id=\"T_7bc01_row2_col11\" class=\"data row2 col11\" >nan</td>\n",
       "    </tr>\n",
       "    <tr>\n",
       "      <th id=\"T_7bc01_level0_row3\" class=\"row_heading level0 row3\" >open</th>\n",
       "      <td id=\"T_7bc01_row3_col0\" class=\"data row3 col0\" >0.999083</td>\n",
       "      <td id=\"T_7bc01_row3_col1\" class=\"data row3 col1\" >0.999575</td>\n",
       "      <td id=\"T_7bc01_row3_col2\" class=\"data row3 col2\" >0.999499</td>\n",
       "      <td id=\"T_7bc01_row3_col3\" class=\"data row3 col3\" >1.000000</td>\n",
       "      <td id=\"T_7bc01_row3_col4\" class=\"data row3 col4\" >-0.021381</td>\n",
       "      <td id=\"T_7bc01_row3_col5\" class=\"data row3 col5\" >0.999083</td>\n",
       "      <td id=\"T_7bc01_row3_col6\" class=\"data row3 col6\" >0.999575</td>\n",
       "      <td id=\"T_7bc01_row3_col7\" class=\"data row3 col7\" >0.999499</td>\n",
       "      <td id=\"T_7bc01_row3_col8\" class=\"data row3 col8\" >1.000000</td>\n",
       "      <td id=\"T_7bc01_row3_col9\" class=\"data row3 col9\" >-0.021381</td>\n",
       "      <td id=\"T_7bc01_row3_col10\" class=\"data row3 col10\" >nan</td>\n",
       "      <td id=\"T_7bc01_row3_col11\" class=\"data row3 col11\" >nan</td>\n",
       "    </tr>\n",
       "    <tr>\n",
       "      <th id=\"T_7bc01_level0_row4\" class=\"row_heading level0 row4\" >volume</th>\n",
       "      <td id=\"T_7bc01_row4_col0\" class=\"data row4 col0\" >-0.025574</td>\n",
       "      <td id=\"T_7bc01_row4_col1\" class=\"data row4 col1\" >-0.012470</td>\n",
       "      <td id=\"T_7bc01_row4_col2\" class=\"data row4 col2\" >-0.035184</td>\n",
       "      <td id=\"T_7bc01_row4_col3\" class=\"data row4 col3\" >-0.021381</td>\n",
       "      <td id=\"T_7bc01_row4_col4\" class=\"data row4 col4\" >1.000000</td>\n",
       "      <td id=\"T_7bc01_row4_col5\" class=\"data row4 col5\" >-0.025574</td>\n",
       "      <td id=\"T_7bc01_row4_col6\" class=\"data row4 col6\" >-0.012470</td>\n",
       "      <td id=\"T_7bc01_row4_col7\" class=\"data row4 col7\" >-0.035184</td>\n",
       "      <td id=\"T_7bc01_row4_col8\" class=\"data row4 col8\" >-0.021381</td>\n",
       "      <td id=\"T_7bc01_row4_col9\" class=\"data row4 col9\" >1.000000</td>\n",
       "      <td id=\"T_7bc01_row4_col10\" class=\"data row4 col10\" >nan</td>\n",
       "      <td id=\"T_7bc01_row4_col11\" class=\"data row4 col11\" >nan</td>\n",
       "    </tr>\n",
       "    <tr>\n",
       "      <th id=\"T_7bc01_level0_row5\" class=\"row_heading level0 row5\" >adjClose</th>\n",
       "      <td id=\"T_7bc01_row5_col0\" class=\"data row5 col0\" >1.000000</td>\n",
       "      <td id=\"T_7bc01_row5_col1\" class=\"data row5 col1\" >0.999528</td>\n",
       "      <td id=\"T_7bc01_row5_col2\" class=\"data row5 col2\" >0.999586</td>\n",
       "      <td id=\"T_7bc01_row5_col3\" class=\"data row5 col3\" >0.999083</td>\n",
       "      <td id=\"T_7bc01_row5_col4\" class=\"data row5 col4\" >-0.025574</td>\n",
       "      <td id=\"T_7bc01_row5_col5\" class=\"data row5 col5\" >1.000000</td>\n",
       "      <td id=\"T_7bc01_row5_col6\" class=\"data row5 col6\" >0.999528</td>\n",
       "      <td id=\"T_7bc01_row5_col7\" class=\"data row5 col7\" >0.999586</td>\n",
       "      <td id=\"T_7bc01_row5_col8\" class=\"data row5 col8\" >0.999083</td>\n",
       "      <td id=\"T_7bc01_row5_col9\" class=\"data row5 col9\" >-0.025574</td>\n",
       "      <td id=\"T_7bc01_row5_col10\" class=\"data row5 col10\" >nan</td>\n",
       "      <td id=\"T_7bc01_row5_col11\" class=\"data row5 col11\" >nan</td>\n",
       "    </tr>\n",
       "    <tr>\n",
       "      <th id=\"T_7bc01_level0_row6\" class=\"row_heading level0 row6\" >adjHigh</th>\n",
       "      <td id=\"T_7bc01_row6_col0\" class=\"data row6 col0\" >0.999528</td>\n",
       "      <td id=\"T_7bc01_row6_col1\" class=\"data row6 col1\" >1.000000</td>\n",
       "      <td id=\"T_7bc01_row6_col2\" class=\"data row6 col2\" >0.999354</td>\n",
       "      <td id=\"T_7bc01_row6_col3\" class=\"data row6 col3\" >0.999575</td>\n",
       "      <td id=\"T_7bc01_row6_col4\" class=\"data row6 col4\" >-0.012470</td>\n",
       "      <td id=\"T_7bc01_row6_col5\" class=\"data row6 col5\" >0.999528</td>\n",
       "      <td id=\"T_7bc01_row6_col6\" class=\"data row6 col6\" >1.000000</td>\n",
       "      <td id=\"T_7bc01_row6_col7\" class=\"data row6 col7\" >0.999354</td>\n",
       "      <td id=\"T_7bc01_row6_col8\" class=\"data row6 col8\" >0.999575</td>\n",
       "      <td id=\"T_7bc01_row6_col9\" class=\"data row6 col9\" >-0.012470</td>\n",
       "      <td id=\"T_7bc01_row6_col10\" class=\"data row6 col10\" >nan</td>\n",
       "      <td id=\"T_7bc01_row6_col11\" class=\"data row6 col11\" >nan</td>\n",
       "    </tr>\n",
       "    <tr>\n",
       "      <th id=\"T_7bc01_level0_row7\" class=\"row_heading level0 row7\" >adjLow</th>\n",
       "      <td id=\"T_7bc01_row7_col0\" class=\"data row7 col0\" >0.999586</td>\n",
       "      <td id=\"T_7bc01_row7_col1\" class=\"data row7 col1\" >0.999354</td>\n",
       "      <td id=\"T_7bc01_row7_col2\" class=\"data row7 col2\" >1.000000</td>\n",
       "      <td id=\"T_7bc01_row7_col3\" class=\"data row7 col3\" >0.999499</td>\n",
       "      <td id=\"T_7bc01_row7_col4\" class=\"data row7 col4\" >-0.035184</td>\n",
       "      <td id=\"T_7bc01_row7_col5\" class=\"data row7 col5\" >0.999586</td>\n",
       "      <td id=\"T_7bc01_row7_col6\" class=\"data row7 col6\" >0.999354</td>\n",
       "      <td id=\"T_7bc01_row7_col7\" class=\"data row7 col7\" >1.000000</td>\n",
       "      <td id=\"T_7bc01_row7_col8\" class=\"data row7 col8\" >0.999499</td>\n",
       "      <td id=\"T_7bc01_row7_col9\" class=\"data row7 col9\" >-0.035184</td>\n",
       "      <td id=\"T_7bc01_row7_col10\" class=\"data row7 col10\" >nan</td>\n",
       "      <td id=\"T_7bc01_row7_col11\" class=\"data row7 col11\" >nan</td>\n",
       "    </tr>\n",
       "    <tr>\n",
       "      <th id=\"T_7bc01_level0_row8\" class=\"row_heading level0 row8\" >adjOpen</th>\n",
       "      <td id=\"T_7bc01_row8_col0\" class=\"data row8 col0\" >0.999083</td>\n",
       "      <td id=\"T_7bc01_row8_col1\" class=\"data row8 col1\" >0.999575</td>\n",
       "      <td id=\"T_7bc01_row8_col2\" class=\"data row8 col2\" >0.999499</td>\n",
       "      <td id=\"T_7bc01_row8_col3\" class=\"data row8 col3\" >1.000000</td>\n",
       "      <td id=\"T_7bc01_row8_col4\" class=\"data row8 col4\" >-0.021381</td>\n",
       "      <td id=\"T_7bc01_row8_col5\" class=\"data row8 col5\" >0.999083</td>\n",
       "      <td id=\"T_7bc01_row8_col6\" class=\"data row8 col6\" >0.999575</td>\n",
       "      <td id=\"T_7bc01_row8_col7\" class=\"data row8 col7\" >0.999499</td>\n",
       "      <td id=\"T_7bc01_row8_col8\" class=\"data row8 col8\" >1.000000</td>\n",
       "      <td id=\"T_7bc01_row8_col9\" class=\"data row8 col9\" >-0.021381</td>\n",
       "      <td id=\"T_7bc01_row8_col10\" class=\"data row8 col10\" >nan</td>\n",
       "      <td id=\"T_7bc01_row8_col11\" class=\"data row8 col11\" >nan</td>\n",
       "    </tr>\n",
       "    <tr>\n",
       "      <th id=\"T_7bc01_level0_row9\" class=\"row_heading level0 row9\" >adjVolume</th>\n",
       "      <td id=\"T_7bc01_row9_col0\" class=\"data row9 col0\" >-0.025574</td>\n",
       "      <td id=\"T_7bc01_row9_col1\" class=\"data row9 col1\" >-0.012470</td>\n",
       "      <td id=\"T_7bc01_row9_col2\" class=\"data row9 col2\" >-0.035184</td>\n",
       "      <td id=\"T_7bc01_row9_col3\" class=\"data row9 col3\" >-0.021381</td>\n",
       "      <td id=\"T_7bc01_row9_col4\" class=\"data row9 col4\" >1.000000</td>\n",
       "      <td id=\"T_7bc01_row9_col5\" class=\"data row9 col5\" >-0.025574</td>\n",
       "      <td id=\"T_7bc01_row9_col6\" class=\"data row9 col6\" >-0.012470</td>\n",
       "      <td id=\"T_7bc01_row9_col7\" class=\"data row9 col7\" >-0.035184</td>\n",
       "      <td id=\"T_7bc01_row9_col8\" class=\"data row9 col8\" >-0.021381</td>\n",
       "      <td id=\"T_7bc01_row9_col9\" class=\"data row9 col9\" >1.000000</td>\n",
       "      <td id=\"T_7bc01_row9_col10\" class=\"data row9 col10\" >nan</td>\n",
       "      <td id=\"T_7bc01_row9_col11\" class=\"data row9 col11\" >nan</td>\n",
       "    </tr>\n",
       "    <tr>\n",
       "      <th id=\"T_7bc01_level0_row10\" class=\"row_heading level0 row10\" >divCash</th>\n",
       "      <td id=\"T_7bc01_row10_col0\" class=\"data row10 col0\" >nan</td>\n",
       "      <td id=\"T_7bc01_row10_col1\" class=\"data row10 col1\" >nan</td>\n",
       "      <td id=\"T_7bc01_row10_col2\" class=\"data row10 col2\" >nan</td>\n",
       "      <td id=\"T_7bc01_row10_col3\" class=\"data row10 col3\" >nan</td>\n",
       "      <td id=\"T_7bc01_row10_col4\" class=\"data row10 col4\" >nan</td>\n",
       "      <td id=\"T_7bc01_row10_col5\" class=\"data row10 col5\" >nan</td>\n",
       "      <td id=\"T_7bc01_row10_col6\" class=\"data row10 col6\" >nan</td>\n",
       "      <td id=\"T_7bc01_row10_col7\" class=\"data row10 col7\" >nan</td>\n",
       "      <td id=\"T_7bc01_row10_col8\" class=\"data row10 col8\" >nan</td>\n",
       "      <td id=\"T_7bc01_row10_col9\" class=\"data row10 col9\" >nan</td>\n",
       "      <td id=\"T_7bc01_row10_col10\" class=\"data row10 col10\" >nan</td>\n",
       "      <td id=\"T_7bc01_row10_col11\" class=\"data row10 col11\" >nan</td>\n",
       "    </tr>\n",
       "    <tr>\n",
       "      <th id=\"T_7bc01_level0_row11\" class=\"row_heading level0 row11\" >splitFactor</th>\n",
       "      <td id=\"T_7bc01_row11_col0\" class=\"data row11 col0\" >nan</td>\n",
       "      <td id=\"T_7bc01_row11_col1\" class=\"data row11 col1\" >nan</td>\n",
       "      <td id=\"T_7bc01_row11_col2\" class=\"data row11 col2\" >nan</td>\n",
       "      <td id=\"T_7bc01_row11_col3\" class=\"data row11 col3\" >nan</td>\n",
       "      <td id=\"T_7bc01_row11_col4\" class=\"data row11 col4\" >nan</td>\n",
       "      <td id=\"T_7bc01_row11_col5\" class=\"data row11 col5\" >nan</td>\n",
       "      <td id=\"T_7bc01_row11_col6\" class=\"data row11 col6\" >nan</td>\n",
       "      <td id=\"T_7bc01_row11_col7\" class=\"data row11 col7\" >nan</td>\n",
       "      <td id=\"T_7bc01_row11_col8\" class=\"data row11 col8\" >nan</td>\n",
       "      <td id=\"T_7bc01_row11_col9\" class=\"data row11 col9\" >nan</td>\n",
       "      <td id=\"T_7bc01_row11_col10\" class=\"data row11 col10\" >nan</td>\n",
       "      <td id=\"T_7bc01_row11_col11\" class=\"data row11 col11\" >nan</td>\n",
       "    </tr>\n",
       "  </tbody>\n",
       "</table>\n"
      ],
      "text/plain": [
       "<pandas.io.formats.style.Styler at 0x1e37b9ae6d0>"
      ]
     },
     "execution_count": 10,
     "metadata": {},
     "output_type": "execute_result"
    }
   ],
   "source": [
    "corr = google_stock_data.corr()\n",
    "corr.style.background_gradient(cmap = 'coolwarm')"
   ]
  },
  {
   "cell_type": "code",
   "execution_count": 11,
   "id": "967ae730",
   "metadata": {
    "execution": {
     "iopub.execute_input": "2021-11-29T13:50:24.514533Z",
     "iopub.status.busy": "2021-11-29T13:50:24.513724Z",
     "iopub.status.idle": "2021-11-29T13:50:24.528901Z",
     "shell.execute_reply": "2021-11-29T13:50:24.528442Z",
     "shell.execute_reply.started": "2021-11-29T13:48:54.416152Z"
    },
    "id": "KHpBg4KNnYJB",
    "outputId": "fa98ce9e-66be-478d-dfc5-677f214c2c78",
    "papermill": {
     "duration": 0.040632,
     "end_time": "2021-11-29T13:50:24.529016",
     "exception": false,
     "start_time": "2021-11-29T13:50:24.488384",
     "status": "completed"
    },
    "tags": []
   },
   "outputs": [
    {
     "data": {
      "text/html": [
       "<div>\n",
       "<style scoped>\n",
       "    .dataframe tbody tr th:only-of-type {\n",
       "        vertical-align: middle;\n",
       "    }\n",
       "\n",
       "    .dataframe tbody tr th {\n",
       "        vertical-align: top;\n",
       "    }\n",
       "\n",
       "    .dataframe thead th {\n",
       "        text-align: right;\n",
       "    }\n",
       "</style>\n",
       "<table border=\"1\" class=\"dataframe\">\n",
       "  <thead>\n",
       "    <tr style=\"text-align: right;\">\n",
       "      <th></th>\n",
       "      <th>open</th>\n",
       "      <th>close</th>\n",
       "    </tr>\n",
       "    <tr>\n",
       "      <th>date</th>\n",
       "      <th></th>\n",
       "      <th></th>\n",
       "    </tr>\n",
       "  </thead>\n",
       "  <tbody>\n",
       "    <tr>\n",
       "      <th>2016-06-14</th>\n",
       "      <td>716.48</td>\n",
       "      <td>718.27</td>\n",
       "    </tr>\n",
       "    <tr>\n",
       "      <th>2016-06-15</th>\n",
       "      <td>719.00</td>\n",
       "      <td>718.92</td>\n",
       "    </tr>\n",
       "    <tr>\n",
       "      <th>2016-06-16</th>\n",
       "      <td>714.91</td>\n",
       "      <td>710.36</td>\n",
       "    </tr>\n",
       "    <tr>\n",
       "      <th>2016-06-17</th>\n",
       "      <td>708.65</td>\n",
       "      <td>691.72</td>\n",
       "    </tr>\n",
       "    <tr>\n",
       "      <th>2016-06-20</th>\n",
       "      <td>698.77</td>\n",
       "      <td>693.71</td>\n",
       "    </tr>\n",
       "  </tbody>\n",
       "</table>\n",
       "</div>"
      ],
      "text/plain": [
       "              open   close\n",
       "date                      \n",
       "2016-06-14  716.48  718.27\n",
       "2016-06-15  719.00  718.92\n",
       "2016-06-16  714.91  710.36\n",
       "2016-06-17  708.65  691.72\n",
       "2016-06-20  698.77  693.71"
      ]
     },
     "execution_count": 11,
     "metadata": {},
     "output_type": "execute_result"
    }
   ],
   "source": [
    "google_stock_data = google_stock_data[['date','open','close']] # Extracting required columns\n",
    "google_stock_data['date'] = pd.to_datetime(google_stock_data['date'].apply(lambda x: x.split()[0])) # Selecting only date\n",
    "google_stock_data.set_index('date',drop=True,inplace=True) # Setting date column as index\n",
    "google_stock_data.head()"
   ]
  },
  {
   "cell_type": "markdown",
   "id": "f5f7049a",
   "metadata": {
    "id": "PTYHF02Y6B1m",
    "papermill": {
     "duration": 0.025384,
     "end_time": "2021-11-29T13:50:25.054625",
     "exception": false,
     "start_time": "2021-11-29T13:50:25.029241",
     "status": "completed"
    },
    "tags": []
   },
   "source": [
    "## 3.4 Data Pre-Processing"
   ]
  },
  {
   "cell_type": "markdown",
   "id": "a22391ef",
   "metadata": {},
   "source": [
    "We must pre-process this data before applying stock price using LSTM. Transform the values in our data with help of the fit_transform function. Min-max scaler is used for scaling the data so that we can bring all the price values to a common scale. We then use 80 % data for training and the rest 20% for testing and assign them to separate variables."
   ]
  },
  {
   "cell_type": "code",
   "execution_count": 12,
   "id": "8778da93",
   "metadata": {},
   "outputs": [],
   "source": [
    "from sklearn.preprocessing import MinMaxScaler"
   ]
  },
  {
   "cell_type": "code",
   "execution_count": 13,
   "id": "4049b119",
   "metadata": {
    "execution": {
     "iopub.execute_input": "2021-11-29T13:50:25.109737Z",
     "iopub.status.busy": "2021-11-29T13:50:25.109037Z",
     "iopub.status.idle": "2021-11-29T13:50:25.790067Z",
     "shell.execute_reply": "2021-11-29T13:50:25.789144Z",
     "shell.execute_reply.started": "2021-11-29T13:48:54.839900Z"
    },
    "id": "XgHWQ2SK2cH4",
    "papermill": {
     "duration": 0.710426,
     "end_time": "2021-11-29T13:50:25.790212",
     "exception": false,
     "start_time": "2021-11-29T13:50:25.079786",
     "status": "completed"
    },
    "tags": []
   },
   "outputs": [],
   "source": [
    "MMS = MinMaxScaler()\n",
    "google_stock_data[google_stock_data.columns] = MMS.fit_transform(google_stock_data)"
   ]
  },
  {
   "cell_type": "code",
   "execution_count": 14,
   "id": "ff1cc5d7",
   "metadata": {
    "execution": {
     "iopub.execute_input": "2021-11-29T13:50:25.846038Z",
     "iopub.status.busy": "2021-11-29T13:50:25.845174Z",
     "iopub.status.idle": "2021-11-29T13:50:25.848738Z",
     "shell.execute_reply": "2021-11-29T13:50:25.848236Z",
     "shell.execute_reply.started": "2021-11-29T13:48:54.851721Z"
    },
    "id": "vUhYPfaR2cP0",
    "outputId": "8037611d-ad8d-4be7-ae8e-2482c6204932",
    "papermill": {
     "duration": 0.033285,
     "end_time": "2021-11-29T13:50:25.848868",
     "exception": false,
     "start_time": "2021-11-29T13:50:25.815583",
     "status": "completed"
    },
    "tags": []
   },
   "outputs": [
    {
     "data": {
      "text/plain": [
       "(1258, 2)"
      ]
     },
     "execution_count": 14,
     "metadata": {},
     "output_type": "execute_result"
    }
   ],
   "source": [
    "google_stock_data.shape"
   ]
  },
  {
   "cell_type": "code",
   "execution_count": 15,
   "id": "481642fe",
   "metadata": {
    "execution": {
     "iopub.execute_input": "2021-11-29T13:50:25.904935Z",
     "iopub.status.busy": "2021-11-29T13:50:25.904184Z",
     "iopub.status.idle": "2021-11-29T13:50:25.907484Z",
     "shell.execute_reply": "2021-11-29T13:50:25.907086Z",
     "shell.execute_reply.started": "2021-11-29T13:48:54.860935Z"
    },
    "id": "o4shudsl2cS3",
    "outputId": "885f7989-ad9c-4723-9626-54b58b382c1e",
    "papermill": {
     "duration": 0.033078,
     "end_time": "2021-11-29T13:50:25.907591",
     "exception": false,
     "start_time": "2021-11-29T13:50:25.874513",
     "status": "completed"
    },
    "tags": []
   },
   "outputs": [
    {
     "data": {
      "text/plain": [
       "1006"
      ]
     },
     "execution_count": 15,
     "metadata": {},
     "output_type": "execute_result"
    }
   ],
   "source": [
    "training_size = round(len(google_stock_data) * 0.80) # Selecting 80 % for training and 20 % for testing\n",
    "training_size"
   ]
  },
  {
   "cell_type": "code",
   "execution_count": 16,
   "id": "f2dda89b",
   "metadata": {
    "execution": {
     "iopub.execute_input": "2021-11-29T13:50:25.971799Z",
     "iopub.status.busy": "2021-11-29T13:50:25.969611Z",
     "iopub.status.idle": "2021-11-29T13:50:25.974770Z",
     "shell.execute_reply": "2021-11-29T13:50:25.975457Z",
     "shell.execute_reply.started": "2021-11-29T13:48:54.870555Z"
    },
    "id": "XWI_TMQC2cWB",
    "outputId": "1cf28a43-311a-4ef4-db20-d3f22c7ef51e",
    "papermill": {
     "duration": 0.042465,
     "end_time": "2021-11-29T13:50:25.975637",
     "exception": false,
     "start_time": "2021-11-29T13:50:25.933172",
     "status": "completed"
    },
    "tags": []
   },
   "outputs": [
    {
     "data": {
      "text/plain": [
       "((1006, 2), (252, 2))"
      ]
     },
     "execution_count": 16,
     "metadata": {},
     "output_type": "execute_result"
    }
   ],
   "source": [
    "train_data = google_stock_data[:training_size]\n",
    "test_data  = google_stock_data[training_size:]\n",
    "\n",
    "train_data.shape, test_data.shape"
   ]
  },
  {
   "cell_type": "markdown",
   "id": "36e9eb05",
   "metadata": {},
   "source": [
    "## 3.5 Splitting data for training:"
   ]
  },
  {
   "cell_type": "code",
   "execution_count": 17,
   "id": "a5200702",
   "metadata": {
    "execution": {
     "iopub.execute_input": "2021-11-29T13:50:26.059820Z",
     "iopub.status.busy": "2021-11-29T13:50:26.058940Z",
     "iopub.status.idle": "2021-11-29T13:50:26.060837Z",
     "shell.execute_reply": "2021-11-29T13:50:26.061233Z",
     "shell.execute_reply.started": "2021-11-29T13:48:54.885145Z"
    },
    "id": "CqpXvPeD7zUY",
    "papermill": {
     "duration": 0.040061,
     "end_time": "2021-11-29T13:50:26.061364",
     "exception": false,
     "start_time": "2021-11-29T13:50:26.021303",
     "status": "completed"
    },
    "tags": []
   },
   "outputs": [],
   "source": [
    "# Function to create sequence of data for training and testing\n",
    "\n",
    "def create_sequence(dataset):\n",
    "  sequences = []\n",
    "  labels = []\n",
    "\n",
    "  start_idx = 0\n",
    "\n",
    "  for stop_idx in range(50,len(dataset)): # Selecting 50 rows at a time\n",
    "    sequences.append(dataset.iloc[start_idx:stop_idx])\n",
    "    labels.append(dataset.iloc[stop_idx])\n",
    "    start_idx += 1\n",
    "  return (np.array(sequences),np.array(labels))\n"
   ]
  },
  {
   "cell_type": "code",
   "execution_count": 18,
   "id": "cfb20189",
   "metadata": {
    "execution": {
     "iopub.execute_input": "2021-11-29T13:50:26.238579Z",
     "iopub.status.busy": "2021-11-29T13:50:26.228592Z",
     "iopub.status.idle": "2021-11-29T13:50:26.474567Z",
     "shell.execute_reply": "2021-11-29T13:50:26.473990Z",
     "shell.execute_reply.started": "2021-11-29T13:48:54.894459Z"
    },
    "id": "xqkyw0e-7zW3",
    "papermill": {
     "duration": 0.386764,
     "end_time": "2021-11-29T13:50:26.474713",
     "exception": false,
     "start_time": "2021-11-29T13:50:26.087949",
     "status": "completed"
    },
    "tags": []
   },
   "outputs": [],
   "source": [
    "train_seq, train_label = create_sequence(train_data)\n",
    "test_seq, test_label = create_sequence(test_data)"
   ]
  },
  {
   "cell_type": "code",
   "execution_count": 19,
   "id": "742e613e",
   "metadata": {
    "execution": {
     "iopub.execute_input": "2021-11-29T13:50:26.539660Z",
     "iopub.status.busy": "2021-11-29T13:50:26.538729Z",
     "iopub.status.idle": "2021-11-29T13:50:26.541985Z",
     "shell.execute_reply": "2021-11-29T13:50:26.542452Z",
     "shell.execute_reply.started": "2021-11-29T13:48:55.089605Z"
    },
    "id": "ZpsCI6jf_oC2",
    "outputId": "1c0a74ae-8205-44a9-8748-18318845a365",
    "papermill": {
     "duration": 0.038202,
     "end_time": "2021-11-29T13:50:26.542583",
     "exception": false,
     "start_time": "2021-11-29T13:50:26.504381",
     "status": "completed"
    },
    "tags": []
   },
   "outputs": [
    {
     "data": {
      "text/plain": [
       "((956, 50, 2), (956, 2), (202, 50, 2), (202, 2))"
      ]
     },
     "execution_count": 19,
     "metadata": {},
     "output_type": "execute_result"
    }
   ],
   "source": [
    "train_seq.shape, train_label.shape, test_seq.shape, test_label.shape"
   ]
  },
  {
   "cell_type": "markdown",
   "id": "fe299b44",
   "metadata": {
    "id": "lbRE8i0Y6GGL",
    "papermill": {
     "duration": 0.029508,
     "end_time": "2021-11-29T13:50:26.601175",
     "exception": false,
     "start_time": "2021-11-29T13:50:26.571667",
     "status": "completed"
    },
    "tags": []
   },
   "source": [
    "## 3.6 Implementation of our LSTM model:"
   ]
  },
  {
   "cell_type": "markdown",
   "id": "e80f1155",
   "metadata": {},
   "source": [
    "In the next step, we create our LSTM model.  In this notebook, we will use the Sequential model imported from Keras and required libraries are imported."
   ]
  },
  {
   "cell_type": "code",
   "execution_count": 20,
   "id": "89bfd1cc",
   "metadata": {
    "execution": {
     "iopub.execute_input": "2021-11-29T13:50:26.691126Z",
     "iopub.status.busy": "2021-11-29T13:50:26.689658Z",
     "iopub.status.idle": "2021-11-29T13:50:31.283100Z",
     "shell.execute_reply": "2021-11-29T13:50:31.282463Z",
     "shell.execute_reply.started": "2021-11-29T13:48:55.098122Z"
    },
    "id": "etmB-Lbd7zZa",
    "papermill": {
     "duration": 4.650091,
     "end_time": "2021-11-29T13:50:31.283263",
     "exception": false,
     "start_time": "2021-11-29T13:50:26.633172",
     "status": "completed"
    },
    "tags": []
   },
   "outputs": [],
   "source": [
    "from keras.models import Sequential\n",
    "from keras.layers import Dense, Dropout, LSTM, Bidirectional"
   ]
  },
  {
   "cell_type": "markdown",
   "id": "c93b30ee",
   "metadata": {},
   "source": [
    "We use two LSTM layers in our model and implement drop out in between for regularization. The number of units assigned in the LSTM parameter is fifty. with a dropout of 10 %. Mean squared error is the loss function for optimizing the problem with adam optimizer. Mean absolute error is the metric used in our LSTM network as it is associated with time-series data"
   ]
  },
  {
   "cell_type": "code",
   "execution_count": 21,
   "id": "3c9ba91e",
   "metadata": {
    "execution": {
     "iopub.execute_input": "2021-11-29T13:50:31.345243Z",
     "iopub.status.busy": "2021-11-29T13:50:31.344593Z",
     "iopub.status.idle": "2021-11-29T13:50:34.144339Z",
     "shell.execute_reply": "2021-11-29T13:50:34.144950Z",
     "shell.execute_reply.started": "2021-11-29T13:48:55.107419Z"
    },
    "id": "FntEHOeG7zcE",
    "outputId": "870dc502-f598-4826-ef48-25724058761d",
    "papermill": {
     "duration": 2.834539,
     "end_time": "2021-11-29T13:50:34.145200",
     "exception": false,
     "start_time": "2021-11-29T13:50:31.310661",
     "status": "completed"
    },
    "tags": []
   },
   "outputs": [
    {
     "name": "stdout",
     "output_type": "stream",
     "text": [
      "Model: \"sequential\"\n",
      "_________________________________________________________________\n",
      " Layer (type)                Output Shape              Param #   \n",
      "=================================================================\n",
      " lstm (LSTM)                 (None, 50, 50)            10600     \n",
      "                                                                 \n",
      " dropout (Dropout)           (None, 50, 50)            0         \n",
      "                                                                 \n",
      " lstm_1 (LSTM)               (None, 50)                20200     \n",
      "                                                                 \n",
      " dense (Dense)               (None, 2)                 102       \n",
      "                                                                 \n",
      "=================================================================\n",
      "Total params: 30,902\n",
      "Trainable params: 30,902\n",
      "Non-trainable params: 0\n",
      "_________________________________________________________________\n"
     ]
    }
   ],
   "source": [
    "model = Sequential()\n",
    "model.add(LSTM(units=50, return_sequences=True, input_shape = (train_seq.shape[1], train_seq.shape[2])))\n",
    "\n",
    "model.add(Dropout(0.1)) \n",
    "model.add(LSTM(units=50))\n",
    "\n",
    "model.add(Dense(2))\n",
    "\n",
    "model.compile(loss='mean_squared_error', optimizer='adam', metrics=['mean_absolute_error'])\n",
    "\n",
    "model.summary()"
   ]
  },
  {
   "cell_type": "code",
   "execution_count": null,
   "id": "89bbd310",
   "metadata": {
    "_kg_hide-output": true,
    "execution": {
     "iopub.execute_input": "2021-11-29T13:50:34.264567Z",
     "iopub.status.busy": "2021-11-29T13:50:34.259488Z",
     "iopub.status.idle": "2021-11-29T13:51:17.928289Z",
     "shell.execute_reply": "2021-11-29T13:51:17.928903Z",
     "shell.execute_reply.started": "2021-11-29T13:48:55.516580Z"
    },
    "id": "5sFY8gn97zeC",
    "outputId": "2ee9dfaf-e6de-4f98-bd24-fedc69f238b5",
    "papermill": {
     "duration": 43.722993,
     "end_time": "2021-11-29T13:51:17.929098",
     "exception": false,
     "start_time": "2021-11-29T13:50:34.206105",
     "status": "completed"
    },
    "tags": []
   },
   "outputs": [
    {
     "name": "stdout",
     "output_type": "stream",
     "text": [
      "Epoch 1/80\n",
      "30/30 [==============================] - 5s 50ms/step - loss: 0.0071 - mean_absolute_error: 0.0607 - val_loss: 0.0153 - val_mean_absolute_error: 0.1044\n",
      "Epoch 2/80\n",
      "30/30 [==============================] - 1s 19ms/step - loss: 9.1178e-04 - mean_absolute_error: 0.0234 - val_loss: 0.0086 - val_mean_absolute_error: 0.0784\n",
      "Epoch 3/80\n",
      "30/30 [==============================] - 1s 21ms/step - loss: 5.8543e-04 - mean_absolute_error: 0.0174 - val_loss: 0.0040 - val_mean_absolute_error: 0.0507\n",
      "Epoch 4/80\n",
      "30/30 [==============================] - 1s 19ms/step - loss: 5.3339e-04 - mean_absolute_error: 0.0165 - val_loss: 0.0039 - val_mean_absolute_error: 0.0495\n",
      "Epoch 5/80\n",
      "30/30 [==============================] - 1s 20ms/step - loss: 5.0984e-04 - mean_absolute_error: 0.0158 - val_loss: 0.0050 - val_mean_absolute_error: 0.0581\n",
      "Epoch 6/80\n",
      "30/30 [==============================] - 1s 20ms/step - loss: 4.9189e-04 - mean_absolute_error: 0.0159 - val_loss: 0.0041 - val_mean_absolute_error: 0.0520\n",
      "Epoch 7/80\n",
      "30/30 [==============================] - 1s 19ms/step - loss: 4.6948e-04 - mean_absolute_error: 0.0155 - val_loss: 0.0031 - val_mean_absolute_error: 0.0438\n",
      "Epoch 8/80\n",
      "30/30 [==============================] - 1s 19ms/step - loss: 4.3462e-04 - mean_absolute_error: 0.0150 - val_loss: 0.0067 - val_mean_absolute_error: 0.0695\n",
      "Epoch 9/80\n",
      "30/30 [==============================] - 1s 20ms/step - loss: 4.8049e-04 - mean_absolute_error: 0.0159 - val_loss: 0.0070 - val_mean_absolute_error: 0.0702\n",
      "Epoch 10/80\n",
      "30/30 [==============================] - 1s 20ms/step - loss: 4.7474e-04 - mean_absolute_error: 0.0160 - val_loss: 0.0051 - val_mean_absolute_error: 0.0565\n",
      "Epoch 11/80\n",
      "30/30 [==============================] - 1s 19ms/step - loss: 3.9881e-04 - mean_absolute_error: 0.0146 - val_loss: 0.0093 - val_mean_absolute_error: 0.0827\n",
      "Epoch 12/80\n",
      "30/30 [==============================] - 1s 20ms/step - loss: 3.6797e-04 - mean_absolute_error: 0.0141 - val_loss: 0.0081 - val_mean_absolute_error: 0.0762\n",
      "Epoch 13/80\n",
      "30/30 [==============================] - 1s 19ms/step - loss: 4.1711e-04 - mean_absolute_error: 0.0150 - val_loss: 0.0092 - val_mean_absolute_error: 0.0822\n",
      "Epoch 14/80\n",
      "30/30 [==============================] - 1s 20ms/step - loss: 3.6350e-04 - mean_absolute_error: 0.0139 - val_loss: 0.0061 - val_mean_absolute_error: 0.0643\n",
      "Epoch 15/80\n",
      "30/30 [==============================] - 1s 19ms/step - loss: 3.7070e-04 - mean_absolute_error: 0.0143 - val_loss: 0.0049 - val_mean_absolute_error: 0.0560\n",
      "Epoch 16/80\n",
      "30/30 [==============================] - 1s 19ms/step - loss: 3.6049e-04 - mean_absolute_error: 0.0142 - val_loss: 0.0082 - val_mean_absolute_error: 0.0773\n",
      "Epoch 17/80\n",
      "30/30 [==============================] - 1s 20ms/step - loss: 3.3387e-04 - mean_absolute_error: 0.0134 - val_loss: 0.0069 - val_mean_absolute_error: 0.0677\n",
      "Epoch 18/80\n",
      "30/30 [==============================] - 1s 20ms/step - loss: 3.4823e-04 - mean_absolute_error: 0.0138 - val_loss: 0.0055 - val_mean_absolute_error: 0.0625\n",
      "Epoch 19/80\n",
      "30/30 [==============================] - 1s 19ms/step - loss: 3.1147e-04 - mean_absolute_error: 0.0131 - val_loss: 0.0056 - val_mean_absolute_error: 0.0622\n",
      "Epoch 20/80\n",
      "30/30 [==============================] - 1s 19ms/step - loss: 3.2539e-04 - mean_absolute_error: 0.0133 - val_loss: 0.0031 - val_mean_absolute_error: 0.0456\n",
      "Epoch 21/80\n",
      "30/30 [==============================] - 1s 19ms/step - loss: 3.3612e-04 - mean_absolute_error: 0.0135 - val_loss: 0.0070 - val_mean_absolute_error: 0.0708\n",
      "Epoch 22/80\n",
      "30/30 [==============================] - 1s 20ms/step - loss: 3.2082e-04 - mean_absolute_error: 0.0133 - val_loss: 0.0033 - val_mean_absolute_error: 0.0466\n",
      "Epoch 23/80\n",
      "30/30 [==============================] - 1s 20ms/step - loss: 2.9991e-04 - mean_absolute_error: 0.0127 - val_loss: 0.0036 - val_mean_absolute_error: 0.0499\n",
      "Epoch 24/80\n",
      "30/30 [==============================] - 1s 20ms/step - loss: 3.2176e-04 - mean_absolute_error: 0.0131 - val_loss: 0.0019 - val_mean_absolute_error: 0.0345\n",
      "Epoch 25/80\n",
      "30/30 [==============================] - 1s 21ms/step - loss: 2.9299e-04 - mean_absolute_error: 0.0126 - val_loss: 0.0044 - val_mean_absolute_error: 0.0553\n",
      "Epoch 26/80\n",
      "30/30 [==============================] - 1s 20ms/step - loss: 3.0009e-04 - mean_absolute_error: 0.0128 - val_loss: 0.0022 - val_mean_absolute_error: 0.0370\n",
      "Epoch 27/80\n",
      "30/30 [==============================] - 1s 20ms/step - loss: 3.1768e-04 - mean_absolute_error: 0.0132 - val_loss: 0.0021 - val_mean_absolute_error: 0.0364\n",
      "Epoch 28/80\n",
      "30/30 [==============================] - 1s 20ms/step - loss: 2.6022e-04 - mean_absolute_error: 0.0120 - val_loss: 0.0028 - val_mean_absolute_error: 0.0439\n",
      "Epoch 29/80\n",
      "30/30 [==============================] - 1s 20ms/step - loss: 2.8334e-04 - mean_absolute_error: 0.0124 - val_loss: 0.0012 - val_mean_absolute_error: 0.0278\n",
      "Epoch 30/80\n",
      "30/30 [==============================] - 1s 20ms/step - loss: 3.1292e-04 - mean_absolute_error: 0.0131 - val_loss: 0.0026 - val_mean_absolute_error: 0.0407\n",
      "Epoch 31/80\n",
      "30/30 [==============================] - 1s 20ms/step - loss: 2.6090e-04 - mean_absolute_error: 0.0119 - val_loss: 0.0049 - val_mean_absolute_error: 0.0592\n",
      "Epoch 32/80\n",
      "30/30 [==============================] - 1s 20ms/step - loss: 2.6667e-04 - mean_absolute_error: 0.0120 - val_loss: 0.0053 - val_mean_absolute_error: 0.0611\n",
      "Epoch 33/80\n",
      "30/30 [==============================] - 1s 20ms/step - loss: 2.6434e-04 - mean_absolute_error: 0.0120 - val_loss: 0.0023 - val_mean_absolute_error: 0.0381\n",
      "Epoch 34/80\n",
      "30/30 [==============================] - 1s 20ms/step - loss: 2.8285e-04 - mean_absolute_error: 0.0124 - val_loss: 0.0019 - val_mean_absolute_error: 0.0339\n",
      "Epoch 35/80\n",
      "30/30 [==============================] - 1s 19ms/step - loss: 2.5564e-04 - mean_absolute_error: 0.0118 - val_loss: 0.0045 - val_mean_absolute_error: 0.0565\n",
      "Epoch 36/80\n",
      "30/30 [==============================] - 1s 19ms/step - loss: 2.3635e-04 - mean_absolute_error: 0.0113 - val_loss: 0.0031 - val_mean_absolute_error: 0.0448\n",
      "Epoch 37/80\n",
      "30/30 [==============================] - 1s 19ms/step - loss: 2.3303e-04 - mean_absolute_error: 0.0113 - val_loss: 0.0031 - val_mean_absolute_error: 0.0449\n",
      "Epoch 38/80\n",
      "30/30 [==============================] - 1s 19ms/step - loss: 2.3174e-04 - mean_absolute_error: 0.0112 - val_loss: 0.0030 - val_mean_absolute_error: 0.0450\n",
      "Epoch 39/80\n",
      "30/30 [==============================] - 1s 19ms/step - loss: 2.2543e-04 - mean_absolute_error: 0.0111 - val_loss: 0.0029 - val_mean_absolute_error: 0.0435\n",
      "Epoch 40/80\n",
      "30/30 [==============================] - 1s 19ms/step - loss: 2.4930e-04 - mean_absolute_error: 0.0114 - val_loss: 0.0026 - val_mean_absolute_error: 0.0406\n",
      "Epoch 41/80\n",
      "30/30 [==============================] - 1s 20ms/step - loss: 2.3989e-04 - mean_absolute_error: 0.0112 - val_loss: 0.0019 - val_mean_absolute_error: 0.0350\n",
      "Epoch 42/80\n",
      "30/30 [==============================] - 1s 20ms/step - loss: 2.2118e-04 - mean_absolute_error: 0.0109 - val_loss: 0.0027 - val_mean_absolute_error: 0.0421\n",
      "Epoch 43/80\n",
      "30/30 [==============================] - 1s 19ms/step - loss: 2.1654e-04 - mean_absolute_error: 0.0109 - val_loss: 0.0025 - val_mean_absolute_error: 0.0409\n",
      "Epoch 44/80\n",
      "30/30 [==============================] - 1s 20ms/step - loss: 2.2625e-04 - mean_absolute_error: 0.0111 - val_loss: 0.0017 - val_mean_absolute_error: 0.0331\n",
      "Epoch 45/80\n",
      "30/30 [==============================] - 1s 20ms/step - loss: 2.1641e-04 - mean_absolute_error: 0.0108 - val_loss: 0.0015 - val_mean_absolute_error: 0.0307\n",
      "Epoch 46/80\n",
      "30/30 [==============================] - 1s 20ms/step - loss: 2.0712e-04 - mean_absolute_error: 0.0106 - val_loss: 0.0014 - val_mean_absolute_error: 0.0287\n",
      "Epoch 47/80\n",
      "30/30 [==============================] - 1s 20ms/step - loss: 2.2742e-04 - mean_absolute_error: 0.0108 - val_loss: 0.0051 - val_mean_absolute_error: 0.0621\n",
      "Epoch 48/80\n",
      "30/30 [==============================] - 1s 20ms/step - loss: 2.3232e-04 - mean_absolute_error: 0.0113 - val_loss: 0.0030 - val_mean_absolute_error: 0.0431\n",
      "Epoch 49/80\n",
      "30/30 [==============================] - 1s 20ms/step - loss: 2.1377e-04 - mean_absolute_error: 0.0105 - val_loss: 0.0043 - val_mean_absolute_error: 0.0546\n"
     ]
    },
    {
     "name": "stdout",
     "output_type": "stream",
     "text": [
      "Epoch 50/80\n",
      "30/30 [==============================] - 1s 20ms/step - loss: 1.9164e-04 - mean_absolute_error: 0.0103 - val_loss: 0.0020 - val_mean_absolute_error: 0.0342\n",
      "Epoch 51/80\n",
      "30/30 [==============================] - 1s 20ms/step - loss: 2.1416e-04 - mean_absolute_error: 0.0106 - val_loss: 0.0022 - val_mean_absolute_error: 0.0360\n",
      "Epoch 52/80\n",
      "30/30 [==============================] - 1s 20ms/step - loss: 2.1902e-04 - mean_absolute_error: 0.0110 - val_loss: 0.0024 - val_mean_absolute_error: 0.0383\n",
      "Epoch 53/80\n",
      "30/30 [==============================] - 1s 21ms/step - loss: 2.1142e-04 - mean_absolute_error: 0.0106 - val_loss: 0.0011 - val_mean_absolute_error: 0.0249\n",
      "Epoch 54/80\n",
      "30/30 [==============================] - 1s 20ms/step - loss: 2.1688e-04 - mean_absolute_error: 0.0108 - val_loss: 0.0013 - val_mean_absolute_error: 0.0279\n",
      "Epoch 55/80\n",
      "30/30 [==============================] - 1s 20ms/step - loss: 2.0774e-04 - mean_absolute_error: 0.0104 - val_loss: 0.0018 - val_mean_absolute_error: 0.0318\n",
      "Epoch 56/80\n",
      "30/30 [==============================] - 1s 20ms/step - loss: 1.9163e-04 - mean_absolute_error: 0.0101 - val_loss: 0.0026 - val_mean_absolute_error: 0.0401\n",
      "Epoch 57/80\n",
      "30/30 [==============================] - 1s 20ms/step - loss: 1.9422e-04 - mean_absolute_error: 0.0103 - val_loss: 0.0022 - val_mean_absolute_error: 0.0359\n",
      "Epoch 58/80\n",
      "30/30 [==============================] - 1s 20ms/step - loss: 1.7704e-04 - mean_absolute_error: 0.0096 - val_loss: 0.0027 - val_mean_absolute_error: 0.0401\n",
      "Epoch 59/80\n",
      "30/30 [==============================] - 1s 20ms/step - loss: 1.9109e-04 - mean_absolute_error: 0.0100 - val_loss: 0.0036 - val_mean_absolute_error: 0.0481\n",
      "Epoch 60/80\n",
      "30/30 [==============================] - 1s 20ms/step - loss: 1.8609e-04 - mean_absolute_error: 0.0099 - val_loss: 0.0014 - val_mean_absolute_error: 0.0289\n",
      "Epoch 61/80\n",
      "30/30 [==============================] - 1s 19ms/step - loss: 1.8574e-04 - mean_absolute_error: 0.0101 - val_loss: 0.0018 - val_mean_absolute_error: 0.0308\n",
      "Epoch 62/80\n",
      "30/30 [==============================] - 1s 19ms/step - loss: 1.8041e-04 - mean_absolute_error: 0.0098 - val_loss: 0.0040 - val_mean_absolute_error: 0.0500\n",
      "Epoch 63/80\n",
      "28/30 [===========================>..] - ETA: 0s - loss: 1.6389e-04 - mean_absolute_error: 0.0093"
     ]
    }
   ],
   "source": [
    "model.fit(train_seq, train_label, epochs=80,validation_data=(test_seq, test_label), verbose=1)"
   ]
  },
  {
   "cell_type": "code",
   "execution_count": null,
   "id": "00a066fd",
   "metadata": {
    "execution": {
     "iopub.execute_input": "2021-11-29T13:51:18.207348Z",
     "iopub.status.busy": "2021-11-29T13:51:18.206496Z",
     "iopub.status.idle": "2021-11-29T13:51:18.771138Z",
     "shell.execute_reply": "2021-11-29T13:51:18.770439Z",
     "shell.execute_reply.started": "2021-11-29T13:49:18.810485Z"
    },
    "id": "UPkxNcyo7zgX",
    "outputId": "8e246086-8b8b-4834-ce91-54333b128398",
    "papermill": {
     "duration": 0.706009,
     "end_time": "2021-11-29T13:51:18.771268",
     "exception": false,
     "start_time": "2021-11-29T13:51:18.065259",
     "status": "completed"
    },
    "tags": []
   },
   "outputs": [],
   "source": [
    "test_predicted = model.predict(test_seq)\n",
    "test_predicted[:5]"
   ]
  },
  {
   "cell_type": "code",
   "execution_count": null,
   "id": "d6fcdf6d",
   "metadata": {
    "execution": {
     "iopub.execute_input": "2021-11-29T13:51:19.050901Z",
     "iopub.status.busy": "2021-11-29T13:51:19.050171Z",
     "iopub.status.idle": "2021-11-29T13:51:19.052912Z",
     "shell.execute_reply": "2021-11-29T13:51:19.053381Z",
     "shell.execute_reply.started": "2021-11-29T13:49:19.632807Z"
    },
    "id": "DvRmpGcwLPhu",
    "outputId": "5a6b4974-370f-440d-bf4b-ca2d17b51f83",
    "papermill": {
     "duration": 0.14273,
     "end_time": "2021-11-29T13:51:19.053517",
     "exception": false,
     "start_time": "2021-11-29T13:51:18.910787",
     "status": "completed"
    },
    "tags": []
   },
   "outputs": [],
   "source": [
    "test_inverse_predicted = MMS.inverse_transform(test_predicted) # Inversing scaling on predicted data\n",
    "test_inverse_predicted[:5]"
   ]
  },
  {
   "cell_type": "markdown",
   "id": "d5e0763f",
   "metadata": {
    "id": "3fX0hFZM61cO",
    "papermill": {
     "duration": 0.135195,
     "end_time": "2021-11-29T13:51:19.327400",
     "exception": false,
     "start_time": "2021-11-29T13:51:19.192205",
     "status": "completed"
    },
    "tags": []
   },
   "source": [
    "## 3.7 Visualizing predicted and actual data"
   ]
  },
  {
   "cell_type": "markdown",
   "id": "fc8c28a7",
   "metadata": {},
   "source": [
    "After fitting the data with our model we use it for prediction. We must use inverse transformation to get back the original value with the transformed function. Now we can use this data to visualize the prediction."
   ]
  },
  {
   "cell_type": "code",
   "execution_count": null,
   "id": "b1482c2b",
   "metadata": {
    "execution": {
     "iopub.execute_input": "2021-11-29T13:51:19.604064Z",
     "iopub.status.busy": "2021-11-29T13:51:19.602429Z",
     "iopub.status.idle": "2021-11-29T13:51:19.604676Z",
     "shell.execute_reply": "2021-11-29T13:51:19.605114Z",
     "shell.execute_reply.started": "2021-11-29T13:49:19.643481Z"
    },
    "id": "7KWDJaXAL8RT",
    "papermill": {
     "duration": 0.14293,
     "end_time": "2021-11-29T13:51:19.605250",
     "exception": false,
     "start_time": "2021-11-29T13:51:19.462320",
     "status": "completed"
    },
    "tags": []
   },
   "outputs": [],
   "source": [
    "# Merging actual and predicted data for better visualization\n",
    "\n",
    "gs_slic_data = pd.concat([google_stock_data.iloc[-202:].copy(),pd.DataFrame(test_inverse_predicted,columns=['open_predicted','close_predicted'],index=google_stock_data.iloc[-202:].index)], axis=1)"
   ]
  },
  {
   "cell_type": "code",
   "execution_count": null,
   "id": "0f71d152",
   "metadata": {
    "execution": {
     "iopub.execute_input": "2021-11-29T13:51:19.880857Z",
     "iopub.status.busy": "2021-11-29T13:51:19.880216Z",
     "iopub.status.idle": "2021-11-29T13:51:19.883242Z",
     "shell.execute_reply": "2021-11-29T13:51:19.882723Z",
     "shell.execute_reply.started": "2021-11-29T13:49:19.653884Z"
    },
    "id": "VhQ1_JnJ0oYE",
    "papermill": {
     "duration": 0.144781,
     "end_time": "2021-11-29T13:51:19.883366",
     "exception": false,
     "start_time": "2021-11-29T13:51:19.738585",
     "status": "completed"
    },
    "tags": []
   },
   "outputs": [],
   "source": [
    "gs_slic_data[['open','close']] = MMS.inverse_transform(gs_slic_data[['open','close']]) # Inverse scaling"
   ]
  },
  {
   "cell_type": "code",
   "execution_count": null,
   "id": "a10799e0",
   "metadata": {
    "execution": {
     "iopub.execute_input": "2021-11-29T13:51:20.162595Z",
     "iopub.status.busy": "2021-11-29T13:51:20.161846Z",
     "iopub.status.idle": "2021-11-29T13:51:20.164892Z",
     "shell.execute_reply": "2021-11-29T13:51:20.165390Z",
     "shell.execute_reply.started": "2021-11-29T13:49:19.666415Z"
    },
    "id": "M1fsx6gTO3io",
    "outputId": "7b5be0fb-8fab-44ca-9346-4163a6536d26",
    "papermill": {
     "duration": 0.148138,
     "end_time": "2021-11-29T13:51:20.165530",
     "exception": false,
     "start_time": "2021-11-29T13:51:20.017392",
     "status": "completed"
    },
    "tags": []
   },
   "outputs": [],
   "source": [
    "gs_slic_data.head()"
   ]
  },
  {
   "cell_type": "code",
   "execution_count": null,
   "id": "6313352b",
   "metadata": {
    "execution": {
     "iopub.execute_input": "2021-11-29T13:51:20.444637Z",
     "iopub.status.busy": "2021-11-29T13:51:20.444000Z",
     "iopub.status.idle": "2021-11-29T13:51:20.733288Z",
     "shell.execute_reply": "2021-11-29T13:51:20.733701Z",
     "shell.execute_reply.started": "2021-11-29T13:49:19.687236Z"
    },
    "id": "CFS9w3P30Hig",
    "outputId": "66adef77-4f7e-452e-9971-d7479a5c6a2a",
    "papermill": {
     "duration": 0.428726,
     "end_time": "2021-11-29T13:51:20.733862",
     "exception": false,
     "start_time": "2021-11-29T13:51:20.305136",
     "status": "completed"
    },
    "tags": []
   },
   "outputs": [],
   "source": [
    "gs_slic_data[['open','open_predicted']].plot(figsize=(10,6))\n",
    "plt.xticks(rotation=45)\n",
    "plt.xlabel('Date',size=15)\n",
    "plt.ylabel('Stock Price',size=15)\n",
    "plt.title('Actual vs Predicted for open price',size=15)\n",
    "plt.show()"
   ]
  },
  {
   "cell_type": "code",
   "execution_count": null,
   "id": "4b05123b",
   "metadata": {
    "execution": {
     "iopub.execute_input": "2021-11-29T13:51:21.026765Z",
     "iopub.status.busy": "2021-11-29T13:51:21.025624Z",
     "iopub.status.idle": "2021-11-29T13:51:21.298379Z",
     "shell.execute_reply": "2021-11-29T13:51:21.298843Z",
     "shell.execute_reply.started": "2021-11-29T13:49:19.996117Z"
    },
    "id": "YEYigZI8PFo1",
    "outputId": "0a9b81e8-2008-4058-dada-662c91108822",
    "papermill": {
     "duration": 0.430469,
     "end_time": "2021-11-29T13:51:21.298994",
     "exception": false,
     "start_time": "2021-11-29T13:51:20.868525",
     "status": "completed"
    },
    "tags": []
   },
   "outputs": [],
   "source": [
    "gs_slic_data[['close','close_predicted']].plot(figsize=(10,6))\n",
    "plt.xticks(rotation=45)\n",
    "plt.xlabel('Date',size=15)\n",
    "plt.ylabel('Stock Price',size=15)\n",
    "plt.title('Actual vs Predicted for close price',size=15)\n",
    "plt.show()"
   ]
  },
  {
   "cell_type": "markdown",
   "id": "d404369a",
   "metadata": {
    "id": "WeWDN9x_6RIt",
    "papermill": {
     "duration": 0.135991,
     "end_time": "2021-11-29T13:51:21.574630",
     "exception": false,
     "start_time": "2021-11-29T13:51:21.438639",
     "status": "completed"
    },
    "tags": []
   },
   "source": [
    "## 3.8 Predicting upcoming 10 days"
   ]
  },
  {
   "cell_type": "code",
   "execution_count": null,
   "id": "904b10e1",
   "metadata": {
    "execution": {
     "iopub.execute_input": "2021-11-29T13:51:21.863813Z",
     "iopub.status.busy": "2021-11-29T13:51:21.862906Z",
     "iopub.status.idle": "2021-11-29T13:51:21.864849Z",
     "shell.execute_reply": "2021-11-29T13:51:21.865302Z",
     "shell.execute_reply.started": "2021-11-29T13:49:20.293808Z"
    },
    "id": "ByoVNOEn0Ht4",
    "papermill": {
     "duration": 0.149481,
     "end_time": "2021-11-29T13:51:21.865439",
     "exception": false,
     "start_time": "2021-11-29T13:51:21.715958",
     "status": "completed"
    },
    "tags": []
   },
   "outputs": [],
   "source": [
    "# Creating a dataframe and adding 10 days to existing index \n",
    "\n",
    "gs_slic_data = gs_slic_data.append(pd.DataFrame(columns=gs_slic_data.columns,index=pd.date_range(start=gs_slic_data.index[-1], periods=11, freq='D', closed='right')))\n"
   ]
  },
  {
   "cell_type": "code",
   "execution_count": null,
   "id": "d2f9bda9",
   "metadata": {
    "execution": {
     "iopub.execute_input": "2021-11-29T13:51:22.160082Z",
     "iopub.status.busy": "2021-11-29T13:51:22.159226Z",
     "iopub.status.idle": "2021-11-29T13:51:22.162214Z",
     "shell.execute_reply": "2021-11-29T13:51:22.162638Z",
     "shell.execute_reply.started": "2021-11-29T13:49:20.302965Z"
    },
    "id": "1s1rK-LV9Se_",
    "outputId": "6992b3eb-8fd2-46e8-bf57-5d63315720a1",
    "papermill": {
     "duration": 0.158094,
     "end_time": "2021-11-29T13:51:22.162804",
     "exception": false,
     "start_time": "2021-11-29T13:51:22.004710",
     "status": "completed"
    },
    "tags": []
   },
   "outputs": [],
   "source": [
    "gs_slic_data['2021-06-09':'2021-06-16']"
   ]
  },
  {
   "cell_type": "code",
   "execution_count": null,
   "id": "452632e8",
   "metadata": {
    "execution": {
     "iopub.execute_input": "2021-11-29T13:51:22.464480Z",
     "iopub.status.busy": "2021-11-29T13:51:22.463554Z",
     "iopub.status.idle": "2021-11-29T13:51:22.465737Z",
     "shell.execute_reply": "2021-11-29T13:51:22.466157Z",
     "shell.execute_reply.started": "2021-11-29T13:49:20.324276Z"
    },
    "id": "NZrOofTiTUpA",
    "papermill": {
     "duration": 0.151721,
     "end_time": "2021-11-29T13:51:22.466304",
     "exception": false,
     "start_time": "2021-11-29T13:51:22.314583",
     "status": "completed"
    },
    "tags": []
   },
   "outputs": [],
   "source": [
    "upcoming_prediction = pd.DataFrame(columns=['open','close'],index=gs_slic_data.index)\n",
    "upcoming_prediction.index=pd.to_datetime(upcoming_prediction.index)"
   ]
  },
  {
   "cell_type": "code",
   "execution_count": null,
   "id": "c219f9fe",
   "metadata": {
    "execution": {
     "iopub.execute_input": "2021-11-29T13:51:22.755255Z",
     "iopub.status.busy": "2021-11-29T13:51:22.754366Z",
     "iopub.status.idle": "2021-11-29T13:51:23.192659Z",
     "shell.execute_reply": "2021-11-29T13:51:23.191262Z",
     "shell.execute_reply.started": "2021-11-29T13:49:20.337962Z"
    },
    "id": "fexYhMesZHEy",
    "papermill": {
     "duration": 0.586524,
     "end_time": "2021-11-29T13:51:23.192863",
     "exception": false,
     "start_time": "2021-11-29T13:51:22.606339",
     "status": "completed"
    },
    "tags": []
   },
   "outputs": [],
   "source": [
    "curr_seq = test_seq[-1:]\n",
    "\n",
    "for i in range(-10,0):\n",
    "  up_pred = model.predict(curr_seq)\n",
    "  upcoming_prediction.iloc[i] = up_pred\n",
    "  curr_seq = np.append(curr_seq[0][1:],up_pred,axis=0)\n",
    "  curr_seq = curr_seq.reshape(test_seq[-1:].shape)\n"
   ]
  },
  {
   "cell_type": "code",
   "execution_count": null,
   "id": "06dcba60",
   "metadata": {
    "execution": {
     "iopub.execute_input": "2021-11-29T13:51:23.639282Z",
     "iopub.status.busy": "2021-11-29T13:51:23.637529Z",
     "iopub.status.idle": "2021-11-29T13:51:23.639869Z",
     "shell.execute_reply": "2021-11-29T13:51:23.640303Z",
     "shell.execute_reply.started": "2021-11-29T13:49:20.727490Z"
    },
    "id": "ffiWW_EIZHMT",
    "papermill": {
     "duration": 0.219046,
     "end_time": "2021-11-29T13:51:23.640455",
     "exception": false,
     "start_time": "2021-11-29T13:51:23.421409",
     "status": "completed"
    },
    "tags": []
   },
   "outputs": [],
   "source": [
    "upcoming_prediction[['open','close']] = MMS.inverse_transform(upcoming_prediction[['open','close']])"
   ]
  },
  {
   "cell_type": "code",
   "execution_count": null,
   "id": "bdd20807",
   "metadata": {
    "execution": {
     "iopub.execute_input": "2021-11-29T13:51:23.943693Z",
     "iopub.status.busy": "2021-11-29T13:51:23.942573Z",
     "iopub.status.idle": "2021-11-29T13:51:24.197160Z",
     "shell.execute_reply": "2021-11-29T13:51:24.196409Z",
     "shell.execute_reply.started": "2021-11-29T13:49:20.735924Z"
    },
    "id": "4DvMiPkTVlEe",
    "outputId": "c1ec957f-b7a4-46ed-858e-7a230b341ffa",
    "papermill": {
     "duration": 0.418763,
     "end_time": "2021-11-29T13:51:24.197289",
     "exception": false,
     "start_time": "2021-11-29T13:51:23.778526",
     "status": "completed"
    },
    "tags": []
   },
   "outputs": [],
   "source": [
    "fg,ax=plt.subplots(figsize=(10,5))\n",
    "ax.plot(gs_slic_data.loc['2021-04-01':,'open'],label='Current Open Price')\n",
    "ax.plot(upcoming_prediction.loc['2021-04-01':,'open'],label='Upcoming Open Price')\n",
    "plt.setp(ax.xaxis.get_majorticklabels(), rotation=45)\n",
    "ax.set_xlabel('Date',size=15)\n",
    "ax.set_ylabel('Stock Price',size=15)\n",
    "ax.set_title('Upcoming Open price prediction',size=15)\n",
    "ax.legend()\n",
    "fg.show()"
   ]
  },
  {
   "cell_type": "code",
   "execution_count": null,
   "id": "6cefc709",
   "metadata": {
    "execution": {
     "iopub.execute_input": "2021-11-29T13:51:24.505007Z",
     "iopub.status.busy": "2021-11-29T13:51:24.504069Z",
     "iopub.status.idle": "2021-11-29T13:51:24.751453Z",
     "shell.execute_reply": "2021-11-29T13:51:24.751904Z",
     "shell.execute_reply.started": "2021-11-29T13:49:21.029698Z"
    },
    "id": "r9EK16p7m8ZK",
    "outputId": "6bd4e931-511c-4575-ee32-339fca13794a",
    "papermill": {
     "duration": 0.41601,
     "end_time": "2021-11-29T13:51:24.752112",
     "exception": false,
     "start_time": "2021-11-29T13:51:24.336102",
     "status": "completed"
    },
    "tags": []
   },
   "outputs": [],
   "source": [
    "fg,ax=plt.subplots(figsize=(10,5))\n",
    "ax.plot(gs_slic_data.loc['2021-04-01':,'close'],label='Current close Price')\n",
    "ax.plot(upcoming_prediction.loc['2021-04-01':,'close'],label='Upcoming close Price')\n",
    "plt.setp(ax.xaxis.get_majorticklabels(), rotation=45)\n",
    "ax.set_xlabel('Date',size=15)\n",
    "ax.set_ylabel('Stock Price',size=15)\n",
    "ax.set_title('Upcoming close price prediction',size=15)\n",
    "ax.legend()\n",
    "fg.show()"
   ]
  },
  {
   "cell_type": "markdown",
   "id": "420402f8",
   "metadata": {},
   "source": [
    "## 4.Conclusion\n",
    "\n",
    "In this Notebook, we explored LSTM and stock price using LSTM. We then visualized the opening and closing price value after using LSTM."
   ]
  },
  {
   "cell_type": "code",
   "execution_count": null,
   "id": "4f0b473a",
   "metadata": {},
   "outputs": [],
   "source": []
  }
 ],
 "metadata": {
  "kernelspec": {
   "display_name": "Python 3 (ipykernel)",
   "language": "python",
   "name": "python3"
  },
  "language_info": {
   "codemirror_mode": {
    "name": "ipython",
    "version": 3
   },
   "file_extension": ".py",
   "mimetype": "text/x-python",
   "name": "python",
   "nbconvert_exporter": "python",
   "pygments_lexer": "ipython3",
   "version": "3.9.12"
  },
  "papermill": {
   "default_parameters": {},
   "duration": 71.502717,
   "end_time": "2021-11-29T13:51:28.321502",
   "environment_variables": {},
   "exception": null,
   "input_path": "__notebook__.ipynb",
   "output_path": "__notebook__.ipynb",
   "parameters": {},
   "start_time": "2021-11-29T13:50:16.818785",
   "version": "2.3.3"
  }
 },
 "nbformat": 4,
 "nbformat_minor": 5
}
